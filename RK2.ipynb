{
  "nbformat": 4,
  "nbformat_minor": 0,
  "metadata": {
    "colab": {
      "name": "RK2.ipynb",
      "provenance": [],
      "collapsed_sections": [],
      "authorship_tag": "ABX9TyNmmebllAlTbvBvatVsEITE",
      "include_colab_link": true
    },
    "kernelspec": {
      "name": "python3",
      "display_name": "Python 3"
    }
  },
  "cells": [
    {
      "cell_type": "markdown",
      "metadata": {
        "id": "view-in-github",
        "colab_type": "text"
      },
      "source": [
        "<a href=\"https://colab.research.google.com/github/kokorina-irina/ML/blob/master/RK2.ipynb\" target=\"_parent\"><img src=\"https://colab.research.google.com/assets/colab-badge.svg\" alt=\"Open In Colab\"/></a>"
      ]
    },
    {
      "cell_type": "markdown",
      "metadata": {
        "id": "AuPhbOu7zq7Q",
        "colab_type": "text"
      },
      "source": [
        "# **Кокорина Ирина ИУ5-63Б РК2**"
      ]
    },
    {
      "cell_type": "markdown",
      "metadata": {
        "id": "8DOATjBK0ooK",
        "colab_type": "text"
      },
      "source": [
        "**Задача №1**"
      ]
    },
    {
      "cell_type": "markdown",
      "metadata": {
        "id": "_2rN_T4M3luP",
        "colab_type": "text"
      },
      "source": [
        "Анализ текстов с использованием Байесовских методов"
      ]
    },
    {
      "cell_type": "code",
      "metadata": {
        "id": "Zyzrh0jg0tON",
        "colab_type": "code",
        "colab": {}
      },
      "source": [
        "import numpy as np\n",
        "import pandas as pd\n",
        "from typing import Dict,  Tuple\n",
        "from scipy import stats\n",
        "from IPython.display import Image\n",
        "from sklearn.datasets import load_iris,  load_boston\n",
        "from sklearn.feature_extraction.text import CountVectorizer, TfidfVectorizer\n",
        "from sklearn.model_selection import train_test_split\n",
        "from sklearn.neighbors import KNeighborsRegressor,  KNeighborsClassifier\n",
        "from sklearn.linear_model import LogisticRegression\n",
        "from sklearn.model_selection import GridSearchCV,  RandomizedSearchCV\n",
        "from sklearn.metrics import accuracy_score,  balanced_accuracy_score\n",
        "from sklearn.metrics import precision_score,  recall_score,  f1_score, classification_report\n",
        "from sklearn.metrics import confusion_matrix\n",
        "from sklearn.model_selection import cross_val_score\n",
        "from sklearn.pipeline import Pipeline\n",
        "from sklearn.metrics import mean_absolute_error,  mean_squared_error,  mean_squared_log_error,  median_absolute_error,  r2_score \n",
        "from sklearn.metrics import roc_curve,  roc_auc_score\n",
        "from sklearn.svm import SVC,  NuSVC,  LinearSVC,  OneClassSVM,  SVR,  NuSVR,  LinearSVR\n",
        "import seaborn as sns\n",
        "import matplotlib.pyplot as plt\n",
        "% matplotlib inline \n",
        "sns.set(style= \"ticks\")"
      ],
      "execution_count": 0,
      "outputs": []
    },
    {
      "cell_type": "markdown",
      "metadata": {
        "id": "X8fA4IGF3oHY",
        "colab_type": "text"
      },
      "source": [
        "Загрузка данных "
      ]
    },
    {
      "cell_type": "code",
      "metadata": {
        "id": "oNnuFhs84Zty",
        "colab_type": "code",
        "colab": {
          "base_uri": "https://localhost:8080/",
          "height": 195
        },
        "outputId": "7d8c1e9b-01a8-45ee-bd8c-1c72fc1c73a1"
      },
      "source": [
        "amazon_df = pd.read_csv(\"amazon_cells_labelled.txt\",  delimiter= '\\t',  header= None,  names= ['text',  'value']) \n",
        "amazon_df.head()"
      ],
      "execution_count": 6,
      "outputs": [
        {
          "output_type": "execute_result",
          "data": {
            "text/html": [
              "<div>\n",
              "<style scoped>\n",
              "    .dataframe tbody tr th:only-of-type {\n",
              "        vertical-align: middle;\n",
              "    }\n",
              "\n",
              "    .dataframe tbody tr th {\n",
              "        vertical-align: top;\n",
              "    }\n",
              "\n",
              "    .dataframe thead th {\n",
              "        text-align: right;\n",
              "    }\n",
              "</style>\n",
              "<table border=\"1\" class=\"dataframe\">\n",
              "  <thead>\n",
              "    <tr style=\"text-align: right;\">\n",
              "      <th></th>\n",
              "      <th>text</th>\n",
              "      <th>value</th>\n",
              "    </tr>\n",
              "  </thead>\n",
              "  <tbody>\n",
              "    <tr>\n",
              "      <th>0</th>\n",
              "      <td>So there is no way for me to plug it in here i...</td>\n",
              "      <td>0</td>\n",
              "    </tr>\n",
              "    <tr>\n",
              "      <th>1</th>\n",
              "      <td>Good case, Excellent value.</td>\n",
              "      <td>1</td>\n",
              "    </tr>\n",
              "    <tr>\n",
              "      <th>2</th>\n",
              "      <td>Great for the jawbone.</td>\n",
              "      <td>1</td>\n",
              "    </tr>\n",
              "    <tr>\n",
              "      <th>3</th>\n",
              "      <td>Tied to charger for conversations lasting more...</td>\n",
              "      <td>0</td>\n",
              "    </tr>\n",
              "    <tr>\n",
              "      <th>4</th>\n",
              "      <td>The mic is great.</td>\n",
              "      <td>1</td>\n",
              "    </tr>\n",
              "  </tbody>\n",
              "</table>\n",
              "</div>"
            ],
            "text/plain": [
              "                                                text  value\n",
              "0  So there is no way for me to plug it in here i...      0\n",
              "1                        Good case, Excellent value.      1\n",
              "2                             Great for the jawbone.      1\n",
              "3  Tied to charger for conversations lasting more...      0\n",
              "4                                  The mic is great.      1"
            ]
          },
          "metadata": {
            "tags": []
          },
          "execution_count": 6
        }
      ]
    },
    {
      "cell_type": "code",
      "metadata": {
        "id": "8vJfLJ3s5OTB",
        "colab_type": "code",
        "colab": {
          "base_uri": "https://localhost:8080/",
          "height": 34
        },
        "outputId": "e2437bc0-7dc1-4b89-af16-9bf1d7ef9b4d"
      },
      "source": [
        "amazon_df.shape"
      ],
      "execution_count": 14,
      "outputs": [
        {
          "output_type": "execute_result",
          "data": {
            "text/plain": [
              "(1000, 2)"
            ]
          },
          "metadata": {
            "tags": []
          },
          "execution_count": 14
        }
      ]
    },
    {
      "cell_type": "code",
      "metadata": {
        "id": "MJ6X6vIL5gPD",
        "colab_type": "code",
        "colab": {
          "base_uri": "https://localhost:8080/",
          "height": 168
        },
        "outputId": "e96aec91-90d1-42be-9763-42eb4ca3220f"
      },
      "source": [
        "# Сформируем общий словарь для обучения моделей из обучающей и тестовой выборки\n",
        "vocab_list = amazon_df['text'].tolist()\n",
        "vocab_list[1:10]"
      ],
      "execution_count": 15,
      "outputs": [
        {
          "output_type": "execute_result",
          "data": {
            "text/plain": [
              "['Good case, Excellent value.',\n",
              " 'Great for the jawbone.',\n",
              " 'Tied to charger for conversations lasting more than 45 minutes.MAJOR PROBLEMS!!',\n",
              " 'The mic is great.',\n",
              " 'I have to jiggle the plug to get it to line up right to get decent volume.',\n",
              " 'If you have several dozen or several hundred contacts, then imagine the fun of sending each of them one by one.',\n",
              " 'If you are Razr owner...you must have this!',\n",
              " 'Needless to say, I wasted my money.',\n",
              " 'What a waste of money and time!.']"
            ]
          },
          "metadata": {
            "tags": []
          },
          "execution_count": 15
        }
      ]
    },
    {
      "cell_type": "code",
      "metadata": {
        "id": "4BxKm23q5jkg",
        "colab_type": "code",
        "colab": {
          "base_uri": "https://localhost:8080/",
          "height": 34
        },
        "outputId": "d5aca1f6-1862-46bf-fdf9-99ef3787d6f2"
      },
      "source": [
        "vocabVect = CountVectorizer()\n",
        "vocabVect.fit(vocab_list)\n",
        "corpusVocab = vocabVect.vocabulary_\n",
        "print('Количество сформированных признаков - {}'.format(len(corpusVocab)))"
      ],
      "execution_count": 16,
      "outputs": [
        {
          "output_type": "stream",
          "text": [
            "Количество сформированных признаков - 1847\n"
          ],
          "name": "stdout"
        }
      ]
    },
    {
      "cell_type": "code",
      "metadata": {
        "id": "bFfTxU2j5sAb",
        "colab_type": "code",
        "colab": {
          "base_uri": "https://localhost:8080/",
          "height": 168
        },
        "outputId": "4c778c1f-ce45-41e0-ab21-0a41a0f1007c"
      },
      "source": [
        "for i in list(corpusVocab)[1:10]:\n",
        "    print('{}={}'.format(i, corpusVocab[i]))"
      ],
      "execution_count": 17,
      "outputs": [
        {
          "output_type": "stream",
          "text": [
            "there=1609\n",
            "is=854\n",
            "no=1074\n",
            "way=1766\n",
            "for=653\n",
            "me=993\n",
            "to=1640\n",
            "plug=1212\n",
            "it=857\n"
          ],
          "name": "stdout"
        }
      ]
    },
    {
      "cell_type": "code",
      "metadata": {
        "id": "T7W-rNWp4nTG",
        "colab_type": "code",
        "colab": {}
      },
      "source": [
        "\n",
        "X_train, X_test, y_train, y_test = train_test_split(amazon_df['text'], amazon_df['value'], test_size=0.5, random_state=1)"
      ],
      "execution_count": 0,
      "outputs": []
    },
    {
      "cell_type": "code",
      "metadata": {
        "id": "lcjcBSp_4v4U",
        "colab_type": "code",
        "colab": {}
      },
      "source": [
        "def accuracy_score_for_classes(\n",
        "    y_true: np.ndarray, \n",
        "    y_pred: np.ndarray) -> Dict[int, float]:\n",
        "    \"\"\"\n",
        "    Вычисление метрики accuracy для каждого класса\n",
        "    y_true - истинные значения классов\n",
        "    y_pred - предсказанные значения классов\n",
        "    Возвращает словарь: ключ - метка класса, \n",
        "    значение - Accuracy для данного класса\n",
        "    \"\"\"\n",
        "    # Для удобства фильтрации сформируем Pandas DataFrame \n",
        "    d = {'t': y_true, 'p': y_pred}\n",
        "    df = pd.DataFrame(data=d)\n",
        "    # Метки классов\n",
        "    classes = np.unique(y_true)\n",
        "    # Результирующий словарь\n",
        "    res = dict()\n",
        "    # Перебор меток классов\n",
        "    for c in classes:\n",
        "        # отфильтруем данные, которые соответствуют \n",
        "        # текущей метке класса в истинных значениях\n",
        "        temp_data_flt = df[df['t']==c]\n",
        "        # расчет accuracy для заданной метки класса\n",
        "        temp_acc = accuracy_score(\n",
        "            temp_data_flt['t'].values, \n",
        "            temp_data_flt['p'].values)\n",
        "        # сохранение результата в словарь\n",
        "        res[c] = temp_acc\n",
        "    return res\n",
        "\n",
        "def print_accuracy_score_for_classes(\n",
        "    y_true: np.ndarray, \n",
        "    y_pred: np.ndarray):\n",
        "    \"\"\"\n",
        "    Вывод метрики accuracy для каждого класса\n",
        "    \"\"\"\n",
        "    accs = accuracy_score_for_classes(y_true, y_pred)\n",
        "    if len(accs)>0:\n",
        "        print('Метка \\t Accuracy')\n",
        "    for i in accs:\n",
        "        print('{} \\t {}'.format(i, accs[i]))"
      ],
      "execution_count": 0,
      "outputs": []
    },
    {
      "cell_type": "code",
      "metadata": {
        "id": "Wlqz_XUs46FA",
        "colab_type": "code",
        "colab": {}
      },
      "source": [
        "def sentiment(v, c):\n",
        "    model = Pipeline(\n",
        "        [(\"vectorizer\", v), \n",
        "         (\"classifier\", c)])\n",
        "    model.fit(X_train, y_train)\n",
        "    y_pred = model.predict(X_test)\n",
        "    print_accuracy_score_for_classes(y_test, y_pred)"
      ],
      "execution_count": 0,
      "outputs": []
    },
    {
      "cell_type": "code",
      "metadata": {
        "id": "ERcKxScU5FVS",
        "colab_type": "code",
        "colab": {
          "base_uri": "https://localhost:8080/",
          "height": 268
        },
        "outputId": "03b9c2b1-18d9-464e-baba-5ecdcb8e0864"
      },
      "source": [
        "# В целевом признаке распределение классов относительно равномерное\n",
        "plt.hist(amazon_df['value'])\n",
        "plt.show()"
      ],
      "execution_count": 11,
      "outputs": [
        {
          "output_type": "display_data",
          "data": {
            "image/png": "[encoded data removed]",
            "text/plain": [
              "<Figure size 432x288 with 1 Axes>"
            ]
          },
          "metadata": {
            "tags": []
          }
        }
      ]
    },
    {
      "cell_type": "code",
      "metadata": {
        "id": "GKpeSC0v5KAo",
        "colab_type": "code",
        "colab": {
          "base_uri": "https://localhost:8080/",
          "height": 67
        },
        "outputId": "a8331b7f-4f12-4426-a406-004db3de9def"
      },
      "source": [
        "# Классификация с использованием логистической регресии\n",
        "sentiment(TfidfVectorizer(), LogisticRegression(C=5.0))"
      ],
      "execution_count": 12,
      "outputs": [
        {
          "output_type": "stream",
          "text": [
            "Метка \t Accuracy\n",
            "0 \t 0.8081632653061225\n",
            "1 \t 0.7529411764705882\n"
          ],
          "name": "stdout"
        }
      ]
    },
    {
      "cell_type": "code",
      "metadata": {
        "id": "gRim21sI560P",
        "colab_type": "code",
        "colab": {
          "base_uri": "https://localhost:8080/",
          "height": 67
        },
        "outputId": "e37a8ba3-da4e-4353-e36f-52e501428df7"
      },
      "source": [
        "sentiment(CountVectorizer(), MultinomialNB())"
      ],
      "execution_count": 18,
      "outputs": [
        {
          "output_type": "stream",
          "text": [
            "Метка \t Accuracy\n",
            "0 \t 0.7836734693877551\n",
            "1 \t 0.8352941176470589\n"
          ],
          "name": "stdout"
        }
      ]
    },
    {
      "cell_type": "code",
      "metadata": {
        "id": "GjVc8dvU58Rg",
        "colab_type": "code",
        "colab": {
          "base_uri": "https://localhost:8080/",
          "height": 67
        },
        "outputId": "a9bfb345-d56c-4bdd-869b-6f581b98a253"
      },
      "source": [
        "sentiment(TfidfVectorizer(), MultinomialNB())"
      ],
      "execution_count": 19,
      "outputs": [
        {
          "output_type": "stream",
          "text": [
            "Метка \t Accuracy\n",
            "0 \t 0.8\n",
            "1 \t 0.8117647058823529\n"
          ],
          "name": "stdout"
        }
      ]
    },
    {
      "cell_type": "code",
      "metadata": {
        "id": "m0OkjESg5_8g",
        "colab_type": "code",
        "colab": {
          "base_uri": "https://localhost:8080/",
          "height": 67
        },
        "outputId": "964d7fdc-931a-43dc-b6ea-6a6845bee57a"
      },
      "source": [
        "sentiment(CountVectorizer(), ComplementNB())"
      ],
      "execution_count": 20,
      "outputs": [
        {
          "output_type": "stream",
          "text": [
            "Метка \t Accuracy\n",
            "0 \t 0.7795918367346939\n",
            "1 \t 0.8392156862745098\n"
          ],
          "name": "stdout"
        }
      ]
    },
    {
      "cell_type": "code",
      "metadata": {
        "id": "4w5k31pw6FgL",
        "colab_type": "code",
        "colab": {
          "base_uri": "https://localhost:8080/",
          "height": 67
        },
        "outputId": "9b29769e-cc89-4bff-cb60-f5859d817c90"
      },
      "source": [
        "sentiment(TfidfVectorizer(), ComplementNB())\n"
      ],
      "execution_count": 21,
      "outputs": [
        {
          "output_type": "stream",
          "text": [
            "Метка \t Accuracy\n",
            "0 \t 0.7714285714285715\n",
            "1 \t 0.8274509803921568\n"
          ],
          "name": "stdout"
        }
      ]
    },
    {
      "cell_type": "code",
      "metadata": {
        "id": "ApwWZ7Bu6G0y",
        "colab_type": "code",
        "colab": {
          "base_uri": "https://localhost:8080/",
          "height": 67
        },
        "outputId": "0a84eac9-48c7-4273-8618-41a61e2b0d41"
      },
      "source": [
        "sentiment(CountVectorizer(binary=True), BernoulliNB())\n"
      ],
      "execution_count": 22,
      "outputs": [
        {
          "output_type": "stream",
          "text": [
            "Метка \t Accuracy\n",
            "0 \t 0.7510204081632653\n",
            "1 \t 0.8352941176470589\n"
          ],
          "name": "stdout"
        }
      ]
    },
    {
      "cell_type": "markdown",
      "metadata": {
        "id": "r_V-Tqb46Q4r",
        "colab_type": "text"
      },
      "source": [
        ""
      ]
    },
    {
      "cell_type": "markdown",
      "metadata": {
        "id": "6DFv_-5o-a15",
        "colab_type": "text"
      },
      "source": [
        "# Векторизация текста "
      ]
    },
    {
      "cell_type": "code",
      "metadata": {
        "id": "1lEHE6tP6KKq",
        "colab_type": "code",
        "colab": {}
      },
      "source": [
        "test_features = vocabVect.transform(vocab_list)"
      ],
      "execution_count": 0,
      "outputs": []
    },
    {
      "cell_type": "code",
      "metadata": {
        "id": "coK7MWxU-1-l",
        "colab_type": "code",
        "colab": {
          "base_uri": "https://localhost:8080/",
          "height": 50
        },
        "outputId": "8b056e4a-f934-4682-d133-541f0ad3502e"
      },
      "source": [
        "test_features"
      ],
      "execution_count": 24,
      "outputs": [
        {
          "output_type": "execute_result",
          "data": {
            "text/plain": [
              "<1000x1847 sparse matrix of type '<class 'numpy.int64'>'\n",
              "\twith 9130 stored elements in Compressed Sparse Row format>"
            ]
          },
          "metadata": {
            "tags": []
          },
          "execution_count": 24
        }
      ]
    },
    {
      "cell_type": "code",
      "metadata": {
        "id": "x5Y0-PYn-5GM",
        "colab_type": "code",
        "colab": {
          "base_uri": "https://localhost:8080/",
          "height": 134
        },
        "outputId": "30c81f0f-5d94-4cfb-ef94-a67797909fda"
      },
      "source": [
        "test_features.todense()"
      ],
      "execution_count": 25,
      "outputs": [
        {
          "output_type": "execute_result",
          "data": {
            "text/plain": [
              "matrix([[0, 0, 0, ..., 0, 0, 0],\n",
              "        [0, 0, 0, ..., 0, 0, 0],\n",
              "        [0, 0, 0, ..., 0, 0, 0],\n",
              "        ...,\n",
              "        [0, 0, 0, ..., 0, 0, 0],\n",
              "        [0, 0, 0, ..., 0, 0, 0],\n",
              "        [0, 0, 0, ..., 0, 0, 0]])"
            ]
          },
          "metadata": {
            "tags": []
          },
          "execution_count": 25
        }
      ]
    },
    {
      "cell_type": "code",
      "metadata": {
        "id": "OCQ9hxi5-8yJ",
        "colab_type": "code",
        "colab": {
          "base_uri": "https://localhost:8080/",
          "height": 34
        },
        "outputId": "a2b18c10-8798-4251-dbea-332fdba748f1"
      },
      "source": [
        "# Размер нулевой строки\n",
        "len(test_features.todense()[0].getA1())"
      ],
      "execution_count": 26,
      "outputs": [
        {
          "output_type": "execute_result",
          "data": {
            "text/plain": [
              "1847"
            ]
          },
          "metadata": {
            "tags": []
          },
          "execution_count": 26
        }
      ]
    },
    {
      "cell_type": "code",
      "metadata": {
        "id": "6JSq4OD-_A47",
        "colab_type": "code",
        "colab": {
          "base_uri": "https://localhost:8080/",
          "height": 34
        },
        "outputId": "6b8ee140-2632-4c03-d1f0-2da45ba5d896"
      },
      "source": [
        "# Непустые значения нулевой строки\n",
        "[i for i in test_features.todense()[0].getA1() if i>0]"
      ],
      "execution_count": 27,
      "outputs": [
        {
          "output_type": "execute_result",
          "data": {
            "text/plain": [
              "[1, 1, 1, 1, 1, 2, 1, 1, 1, 1, 1, 1, 1, 1, 1, 1, 1, 1]"
            ]
          },
          "metadata": {
            "tags": []
          },
          "execution_count": 27
        }
      ]
    },
    {
      "cell_type": "code",
      "metadata": {
        "id": "-rBK-R57_D2G",
        "colab_type": "code",
        "colab": {
          "base_uri": "https://localhost:8080/",
          "height": 353
        },
        "outputId": "97369144-35e8-4970-8f11-ba6b34f06a1d"
      },
      "source": [
        "\n",
        "vocabVect.get_feature_names()[100:120]"
      ],
      "execution_count": 28,
      "outputs": [
        {
          "output_type": "execute_result",
          "data": {
            "text/plain": [
              "['anyone',\n",
              " 'anything',\n",
              " 'anyway',\n",
              " 'anywhere',\n",
              " 'apart',\n",
              " 'apartment',\n",
              " 'apparently',\n",
              " 'appealing',\n",
              " 'appearance',\n",
              " 'appears',\n",
              " 'applifies',\n",
              " 'appointments',\n",
              " 'are',\n",
              " 'area',\n",
              " 'arguing',\n",
              " 'armband',\n",
              " 'around',\n",
              " 'arrival',\n",
              " 'arrived',\n",
              " 'as']"
            ]
          },
          "metadata": {
            "tags": []
          },
          "execution_count": 28
        }
      ]
    },
    {
      "cell_type": "markdown",
      "metadata": {
        "id": "GaoxyZWU_JL5",
        "colab_type": "text"
      },
      "source": [
        "# N-граммы"
      ]
    },
    {
      "cell_type": "code",
      "metadata": {
        "id": "eSHeFdjo_Ned",
        "colab_type": "code",
        "colab": {
          "base_uri": "https://localhost:8080/",
          "height": 50
        },
        "outputId": "fd4f9378-699b-4dd7-ccb7-ca144ff1460d"
      },
      "source": [
        "\n",
        "ncv = CountVectorizer(ngram_range=(1,3))\n",
        "ngram_features = ncv.fit_transform(vocab_list)\n",
        "ngram_features"
      ],
      "execution_count": 29,
      "outputs": [
        {
          "output_type": "execute_result",
          "data": {
            "text/plain": [
              "<1000x15088 sparse matrix of type '<class 'numpy.int64'>'\n",
              "\twith 25421 stored elements in Compressed Sparse Row format>"
            ]
          },
          "metadata": {
            "tags": []
          },
          "execution_count": 29
        }
      ]
    },
    {
      "cell_type": "code",
      "metadata": {
        "id": "iEirTQGa_T1m",
        "colab_type": "code",
        "colab": {
          "base_uri": "https://localhost:8080/",
          "height": 34
        },
        "outputId": "c29cda0a-f3c6-4269-c474-1026fe20b506"
      },
      "source": [
        "len(ncv.get_feature_names())"
      ],
      "execution_count": 30,
      "outputs": [
        {
          "output_type": "execute_result",
          "data": {
            "text/plain": [
              "15088"
            ]
          },
          "metadata": {
            "tags": []
          },
          "execution_count": 30
        }
      ]
    },
    {
      "cell_type": "code",
      "metadata": {
        "id": "th-6KVOR_Wlu",
        "colab_type": "code",
        "colab": {
          "base_uri": "https://localhost:8080/",
          "height": 353
        },
        "outputId": "dabcdb5b-e07e-4218-d30b-685953910a08"
      },
      "source": [
        "# Теперь признаками являются N-граммы\n",
        "ncv.get_feature_names()[1000:1020]"
      ],
      "execution_count": 31,
      "outputs": [
        {
          "output_type": "execute_result",
          "data": {
            "text/plain": [
              "['any damage',\n",
              " 'any from',\n",
              " 'any from that',\n",
              " 'any helpful',\n",
              " 'any helpful support',\n",
              " 'any kind',\n",
              " 'any kind of',\n",
              " 'any large',\n",
              " 'any large problems',\n",
              " 'any longer',\n",
              " 'any longer on',\n",
              " 'any mini',\n",
              " 'any mini usb',\n",
              " 'any of',\n",
              " 'any of the',\n",
              " 'any one',\n",
              " 'any one regarding',\n",
              " 'any one who',\n",
              " 'any other',\n",
              " 'any other speaker']"
            ]
          },
          "metadata": {
            "tags": []
          },
          "execution_count": 31
        }
      ]
    },
    {
      "cell_type": "markdown",
      "metadata": {
        "id": "P1g1e43-_dK3",
        "colab_type": "text"
      },
      "source": [
        "# TfidVectorizer"
      ]
    },
    {
      "cell_type": "code",
      "metadata": {
        "id": "KHyl6gmn_j3V",
        "colab_type": "code",
        "colab": {
          "base_uri": "https://localhost:8080/",
          "height": 50
        },
        "outputId": "c14c28c9-a6f0-4e78-eac3-9e14f8e6dba1"
      },
      "source": [
        "\n",
        "tfidfv = TfidfVectorizer(ngram_range=(1,3))\n",
        "tfidf_ngram_features = tfidfv.fit_transform(vocab_list)\n",
        "tfidf_ngram_features"
      ],
      "execution_count": 32,
      "outputs": [
        {
          "output_type": "execute_result",
          "data": {
            "text/plain": [
              "<1000x15088 sparse matrix of type '<class 'numpy.float64'>'\n",
              "\twith 25421 stored elements in Compressed Sparse Row format>"
            ]
          },
          "metadata": {
            "tags": []
          },
          "execution_count": 32
        }
      ]
    },
    {
      "cell_type": "code",
      "metadata": {
        "id": "rNelKn4F_lV4",
        "colab_type": "code",
        "colab": {
          "base_uri": "https://localhost:8080/",
          "height": 134
        },
        "outputId": "5c91eda6-82c6-4b13-d02d-978553482797"
      },
      "source": [
        "tfidf_ngram_features.todense()"
      ],
      "execution_count": 33,
      "outputs": [
        {
          "output_type": "execute_result",
          "data": {
            "text/plain": [
              "matrix([[0., 0., 0., ..., 0., 0., 0.],\n",
              "        [0., 0., 0., ..., 0., 0., 0.],\n",
              "        [0., 0., 0., ..., 0., 0., 0.],\n",
              "        ...,\n",
              "        [0., 0., 0., ..., 0., 0., 0.],\n",
              "        [0., 0., 0., ..., 0., 0., 0.],\n",
              "        [0., 0., 0., ..., 0., 0., 0.]])"
            ]
          },
          "metadata": {
            "tags": []
          },
          "execution_count": 33
        }
      ]
    },
    {
      "cell_type": "code",
      "metadata": {
        "id": "iGSqx1t0_pkt",
        "colab_type": "code",
        "colab": {
          "base_uri": "https://localhost:8080/",
          "height": 34
        },
        "outputId": "81d5ca8f-24fd-477d-c6ce-96d6369852de"
      },
      "source": [
        "# Размер нулевой строки\n",
        "len(tfidf_ngram_features.todense()[0].getA1())"
      ],
      "execution_count": 34,
      "outputs": [
        {
          "output_type": "execute_result",
          "data": {
            "text/plain": [
              "15088"
            ]
          },
          "metadata": {
            "tags": []
          },
          "execution_count": 34
        }
      ]
    },
    {
      "cell_type": "code",
      "metadata": {
        "id": "jt_6IE0q_hrx",
        "colab_type": "code",
        "colab": {
          "base_uri": "https://localhost:8080/",
          "height": 907
        },
        "outputId": "6a277ae1-9272-44f3-9860-53a00dd4fc50"
      },
      "source": [
        "# Непустые значения нулевой строки\n",
        "[i for i in tfidf_ngram_features.todense()[0].getA1() if i>0]"
      ],
      "execution_count": 35,
      "outputs": [
        {
          "output_type": "execute_result",
          "data": {
            "text/plain": [
              "[0.12296719867492838,\n",
              " 0.15534944608172185,\n",
              " 0.15534944608172185,\n",
              " 0.06830400100424172,\n",
              " 0.1255030252282181,\n",
              " 0.15534944608172185,\n",
              " 0.1283779082640305,\n",
              " 0.15534944608172185,\n",
              " 0.15534944608172185,\n",
              " 0.13562203495268255,\n",
              " 0.15534944608172185,\n",
              " 0.15534944608172185,\n",
              " 0.14874431063207066,\n",
              " 0.15534944608172185,\n",
              " 0.15534944608172185,\n",
              " 0.10372362007983864,\n",
              " 0.15534944608172185,\n",
              " 0.055049068589573265,\n",
              " 0.14661992759170106,\n",
              " 0.15534944608172185,\n",
              " 0.050636139480398946,\n",
              " 0.13169671716494918,\n",
              " 0.15534944608172185,\n",
              " 0.0977759838690235,\n",
              " 0.1283779082640305,\n",
              " 0.15534944608172185,\n",
              " 0.10097141339689134,\n",
              " 0.15534944608172185,\n",
              " 0.15534944608172185,\n",
              " 0.11677350673819732,\n",
              " 0.14042623565496998,\n",
              " 0.14042623565496998,\n",
              " 0.09032078057129177,\n",
              " 0.15534944608172185,\n",
              " 0.15534944608172185,\n",
              " 0.04272555198833076,\n",
              " 0.15534944608172185,\n",
              " 0.15534944608172185,\n",
              " 0.10804398824817651,\n",
              " 0.1283779082640305,\n",
              " 0.14661992759170106,\n",
              " 0.05982777533781393,\n",
              " 0.14042623565496998,\n",
              " 0.14042623565496998,\n",
              " 0.14042623565496998,\n",
              " 0.15534944608172185,\n",
              " 0.15534944608172185,\n",
              " 0.14661992759170106,\n",
              " 0.15534944608172185,\n",
              " 0.15534944608172185,\n",
              " 0.1255030252282181,\n",
              " 0.15534944608172185,\n",
              " 0.15534944608172185]"
            ]
          },
          "metadata": {
            "tags": []
          },
          "execution_count": 35
        }
      ]
    },
    {
      "cell_type": "markdown",
      "metadata": {
        "id": "E9Pb4B98_ysw",
        "colab_type": "text"
      },
      "source": [
        "# Анализ тональности "
      ]
    },
    {
      "cell_type": "code",
      "metadata": {
        "id": "1fhbWEyQ_2d1",
        "colab_type": "code",
        "colab": {}
      },
      "source": [
        "def VectorizeAndClassify(vectorizers_list, classifiers_list):\n",
        "    for v in vectorizers_list:\n",
        "        for c in classifiers_list:\n",
        "            pipeline1 = Pipeline([(\"vectorizer\", v), (\"classifier\", c)])\n",
        "            score = cross_val_score(pipeline1, amazon_df['text'], amazon_df['value'], scoring='accuracy', cv=3).mean()\n",
        "            print('Векторизация - {}'.format(v))\n",
        "            print('Модель для классификации - {}'.format(c))\n",
        "            print('Accuracy = {}'.format(score))\n",
        "            print('===========================')"
      ],
      "execution_count": 0,
      "outputs": []
    },
    {
      "cell_type": "code",
      "metadata": {
        "id": "CZvmCC5M_G8r",
        "colab_type": "code",
        "colab": {
          "base_uri": "https://localhost:8080/",
          "height": 1000
        },
        "outputId": "df799241-600e-404e-8150-f87655e93857"
      },
      "source": [
        "vectorizers_list = [CountVectorizer(vocabulary = corpusVocab), TfidfVectorizer(vocabulary = corpusVocab)]\n",
        "classifiers_list = [LogisticRegression(C=3.0), LinearSVC(), KNeighborsClassifier()]\n",
        "VectorizeAndClassify(vectorizers_list, classifiers_list)"
      ],
      "execution_count": 37,
      "outputs": [
        {
          "output_type": "stream",
          "text": [
            "Векторизация - CountVectorizer(analyzer='word', binary=False, decode_error='strict',\n",
            "                dtype=<class 'numpy.int64'>, encoding='utf-8', input='content',\n",
            "                lowercase=True, max_df=1.0, max_features=None, min_df=1,\n",
            "                ngram_range=(1, 1), preprocessor=None, stop_words=None,\n",
            "                strip_accents=None, token_pattern='(?u)\\\\b\\\\w\\\\w+\\\\b',\n",
            "                tokenizer=None,\n",
            "                vocabulary={'10': 0, '100': 1, '11': 2, '12': 3, '13': 4,\n",
            "                            '15': 5, '15g': 6, '18': 7, '20': 8, '2000': 9,\n",
            "                            '2005': 10, '2160': 11, '24': 12, '2mp': 13,\n",
            "                            '325': 14, '350': 15, '375': 16, '3o': 17, '42': 18,\n",
            "                            '44': 19, '45': 20, '4s': 21, '50': 22, '5020': 23,\n",
            "                            '510': 24, '5320': 25, '680': 26, '700w': 27,\n",
            "                            '8125': 28, '8525': 29, ...})\n",
            "Модель для классификации - LogisticRegression(C=3.0, class_weight=None, dual=False, fit_intercept=True,\n",
            "                   intercept_scaling=1, l1_ratio=None, max_iter=100,\n",
            "                   multi_class='auto', n_jobs=None, penalty='l2',\n",
            "                   random_state=None, solver='lbfgs', tol=0.0001, verbose=0,\n",
            "                   warm_start=False)\n",
            "Accuracy = 0.8069896243548937\n",
            "===========================\n",
            "Векторизация - CountVectorizer(analyzer='word', binary=False, decode_error='strict',\n",
            "                dtype=<class 'numpy.int64'>, encoding='utf-8', input='content',\n",
            "                lowercase=True, max_df=1.0, max_features=None, min_df=1,\n",
            "                ngram_range=(1, 1), preprocessor=None, stop_words=None,\n",
            "                strip_accents=None, token_pattern='(?u)\\\\b\\\\w\\\\w+\\\\b',\n",
            "                tokenizer=None,\n",
            "                vocabulary={'10': 0, '100': 1, '11': 2, '12': 3, '13': 4,\n",
            "                            '15': 5, '15g': 6, '18': 7, '20': 8, '2000': 9,\n",
            "                            '2005': 10, '2160': 11, '24': 12, '2mp': 13,\n",
            "                            '325': 14, '350': 15, '375': 16, '3o': 17, '42': 18,\n",
            "                            '44': 19, '45': 20, '4s': 21, '50': 22, '5020': 23,\n",
            "                            '510': 24, '5320': 25, '680': 26, '700w': 27,\n",
            "                            '8125': 28, '8525': 29, ...})\n",
            "Модель для классификации - LinearSVC(C=1.0, class_weight=None, dual=True, fit_intercept=True,\n",
            "          intercept_scaling=1, loss='squared_hinge', max_iter=1000,\n",
            "          multi_class='ovr', penalty='l2', random_state=None, tol=0.0001,\n",
            "          verbose=0)\n",
            "Accuracy = 0.8249956543369716\n",
            "===========================\n",
            "Векторизация - CountVectorizer(analyzer='word', binary=False, decode_error='strict',\n",
            "                dtype=<class 'numpy.int64'>, encoding='utf-8', input='content',\n",
            "                lowercase=True, max_df=1.0, max_features=None, min_df=1,\n",
            "                ngram_range=(1, 1), preprocessor=None, stop_words=None,\n",
            "                strip_accents=None, token_pattern='(?u)\\\\b\\\\w\\\\w+\\\\b',\n",
            "                tokenizer=None,\n",
            "                vocabulary={'10': 0, '100': 1, '11': 2, '12': 3, '13': 4,\n",
            "                            '15': 5, '15g': 6, '18': 7, '20': 8, '2000': 9,\n",
            "                            '2005': 10, '2160': 11, '24': 12, '2mp': 13,\n",
            "                            '325': 14, '350': 15, '375': 16, '3o': 17, '42': 18,\n",
            "                            '44': 19, '45': 20, '4s': 21, '50': 22, '5020': 23,\n",
            "                            '510': 24, '5320': 25, '680': 26, '700w': 27,\n",
            "                            '8125': 28, '8525': 29, ...})\n",
            "Модель для классификации - KNeighborsClassifier(algorithm='auto', leaf_size=30, metric='minkowski',\n",
            "                     metric_params=None, n_jobs=None, n_neighbors=5, p=2,\n",
            "                     weights='uniform')\n",
            "Accuracy = 0.6619733505961051\n",
            "===========================\n",
            "Векторизация - TfidfVectorizer(analyzer='word', binary=False, decode_error='strict',\n",
            "                dtype=<class 'numpy.float64'>, encoding='utf-8',\n",
            "                input='content', lowercase=True, max_df=1.0, max_features=None,\n",
            "                min_df=1, ngram_range=(1, 1), norm='l2', preprocessor=None,\n",
            "                smooth_idf=True, stop_words=None, strip_accents=None,\n",
            "                sublinear_tf=False, token_pattern='(?u)\\\\b\\\\w\\\\w+\\\\b',\n",
            "                tokenizer=None, use_idf=True,\n",
            "                vocabulary={'10': 0, '100': 1, '11': 2, '12': 3, '13': 4,\n",
            "                            '15': 5, '15g': 6, '18': 7, '20': 8, '2000': 9,\n",
            "                            '2005': 10, '2160': 11, '24': 12, '2mp': 13,\n",
            "                            '325': 14, '350': 15, '375': 16, '3o': 17, '42': 18,\n",
            "                            '44': 19, '45': 20, '4s': 21, '50': 22, '5020': 23,\n",
            "                            '510': 24, '5320': 25, '680': 26, '700w': 27,\n",
            "                            '8125': 28, '8525': 29, ...})\n",
            "Модель для классификации - LogisticRegression(C=3.0, class_weight=None, dual=False, fit_intercept=True,\n",
            "                   intercept_scaling=1, l1_ratio=None, max_iter=100,\n",
            "                   multi_class='auto', n_jobs=None, penalty='l2',\n",
            "                   random_state=None, solver='lbfgs', tol=0.0001, verbose=0,\n",
            "                   warm_start=False)\n",
            "Accuracy = 0.8109936283588978\n",
            "===========================\n",
            "Векторизация - TfidfVectorizer(analyzer='word', binary=False, decode_error='strict',\n",
            "                dtype=<class 'numpy.float64'>, encoding='utf-8',\n",
            "                input='content', lowercase=True, max_df=1.0, max_features=None,\n",
            "                min_df=1, ngram_range=(1, 1), norm='l2', preprocessor=None,\n",
            "                smooth_idf=True, stop_words=None, strip_accents=None,\n",
            "                sublinear_tf=False, token_pattern='(?u)\\\\b\\\\w\\\\w+\\\\b',\n",
            "                tokenizer=None, use_idf=True,\n",
            "                vocabulary={'10': 0, '100': 1, '11': 2, '12': 3, '13': 4,\n",
            "                            '15': 5, '15g': 6, '18': 7, '20': 8, '2000': 9,\n",
            "                            '2005': 10, '2160': 11, '24': 12, '2mp': 13,\n",
            "                            '325': 14, '350': 15, '375': 16, '3o': 17, '42': 18,\n",
            "                            '44': 19, '45': 20, '4s': 21, '50': 22, '5020': 23,\n",
            "                            '510': 24, '5320': 25, '680': 26, '700w': 27,\n",
            "                            '8125': 28, '8525': 29, ...})\n",
            "Модель для классификации - LinearSVC(C=1.0, class_weight=None, dual=True, fit_intercept=True,\n",
            "          intercept_scaling=1, loss='squared_hinge', max_iter=1000,\n",
            "          multi_class='ovr', penalty='l2', random_state=None, tol=0.0001,\n",
            "          verbose=0)\n",
            "Accuracy = 0.8109816403229577\n",
            "===========================\n",
            "Векторизация - TfidfVectorizer(analyzer='word', binary=False, decode_error='strict',\n",
            "                dtype=<class 'numpy.float64'>, encoding='utf-8',\n",
            "                input='content', lowercase=True, max_df=1.0, max_features=None,\n",
            "                min_df=1, ngram_range=(1, 1), norm='l2', preprocessor=None,\n",
            "                smooth_idf=True, stop_words=None, strip_accents=None,\n",
            "                sublinear_tf=False, token_pattern='(?u)\\\\b\\\\w\\\\w+\\\\b',\n",
            "                tokenizer=None, use_idf=True,\n",
            "                vocabulary={'10': 0, '100': 1, '11': 2, '12': 3, '13': 4,\n",
            "                            '15': 5, '15g': 6, '18': 7, '20': 8, '2000': 9,\n",
            "                            '2005': 10, '2160': 11, '24': 12, '2mp': 13,\n",
            "                            '325': 14, '350': 15, '375': 16, '3o': 17, '42': 18,\n",
            "                            '44': 19, '45': 20, '4s': 21, '50': 22, '5020': 23,\n",
            "                            '510': 24, '5320': 25, '680': 26, '700w': 27,\n",
            "                            '8125': 28, '8525': 29, ...})\n",
            "Модель для классификации - KNeighborsClassifier(algorithm='auto', leaf_size=30, metric='minkowski',\n",
            "                     metric_params=None, n_jobs=None, n_neighbors=5, p=2,\n",
            "                     weights='uniform')\n",
            "Accuracy = 0.7709895524266782\n",
            "===========================\n"
          ],
          "name": "stdout"
        }
      ]
    },
    {
      "cell_type": "code",
      "metadata": {
        "id": "-EiwM3-FA4-4",
        "colab_type": "code",
        "colab": {}
      },
      "source": [
        "X_train, X_test, y_train, y_test = train_test_split(amazon_df['text'], amazon_df['value'], test_size=0.5, random_state=1)"
      ],
      "execution_count": 0,
      "outputs": []
    },
    {
      "cell_type": "code",
      "metadata": {
        "id": "BcJfQaoyBBHK",
        "colab_type": "code",
        "colab": {}
      },
      "source": [
        "def sentiment(v, c):\n",
        "    model = Pipeline(\n",
        "        [(\"vectorizer\", v), \n",
        "         (\"classifier\", c)])\n",
        "    model.fit(X_train, y_train)\n",
        "    y_pred = model.predict(X_test)\n",
        "    print_accuracy_score_for_classes(y_test, y_pred)"
      ],
      "execution_count": 0,
      "outputs": []
    },
    {
      "cell_type": "code",
      "metadata": {
        "id": "VJIVrBgkBDse",
        "colab_type": "code",
        "colab": {
          "base_uri": "https://localhost:8080/",
          "height": 67
        },
        "outputId": "b7379ca6-7093-471f-ba86-3b661f3af0c0"
      },
      "source": [
        "sentiment(TfidfVectorizer(), LogisticRegression(C=5.0))"
      ],
      "execution_count": 40,
      "outputs": [
        {
          "output_type": "stream",
          "text": [
            "Метка \t Accuracy\n",
            "0 \t 0.8081632653061225\n",
            "1 \t 0.7529411764705882\n"
          ],
          "name": "stdout"
        }
      ]
    },
    {
      "cell_type": "code",
      "metadata": {
        "id": "sYlj6O1kBG24",
        "colab_type": "code",
        "colab": {
          "base_uri": "https://localhost:8080/",
          "height": 67
        },
        "outputId": "dca1f050-9375-4b93-e02a-7b70b968437e"
      },
      "source": [
        "sentiment(TfidfVectorizer(ngram_range=(1,3)), LogisticRegression(C=5.0))"
      ],
      "execution_count": 41,
      "outputs": [
        {
          "output_type": "stream",
          "text": [
            "Метка \t Accuracy\n",
            "0 \t 0.8\n",
            "1 \t 0.7725490196078432\n"
          ],
          "name": "stdout"
        }
      ]
    },
    {
      "cell_type": "code",
      "metadata": {
        "id": "aKPELythBKZB",
        "colab_type": "code",
        "colab": {
          "base_uri": "https://localhost:8080/",
          "height": 67
        },
        "outputId": "796a3e94-82e7-46e6-bdf2-a9f3eb23b2ea"
      },
      "source": [
        "sentiment(TfidfVectorizer(ngram_range=(2,3)), LogisticRegression(C=5.0))"
      ],
      "execution_count": 42,
      "outputs": [
        {
          "output_type": "stream",
          "text": [
            "Метка \t Accuracy\n",
            "0 \t 0.8326530612244898\n",
            "1 \t 0.6196078431372549\n"
          ],
          "name": "stdout"
        }
      ]
    },
    {
      "cell_type": "code",
      "metadata": {
        "id": "o-QT5ofbBTbR",
        "colab_type": "code",
        "colab": {
          "base_uri": "https://localhost:8080/",
          "height": 67
        },
        "outputId": "70643456-f249-4088-9e7a-d2382e28917a"
      },
      "source": [
        "\n",
        "sentiment(TfidfVectorizer(ngram_range=(1,4)), LogisticRegression(C=5.0))"
      ],
      "execution_count": 43,
      "outputs": [
        {
          "output_type": "stream",
          "text": [
            "Метка \t Accuracy\n",
            "0 \t 0.7918367346938775\n",
            "1 \t 0.7764705882352941\n"
          ],
          "name": "stdout"
        }
      ]
    },
    {
      "cell_type": "code",
      "metadata": {
        "id": "KEc97YlnBWjd",
        "colab_type": "code",
        "colab": {
          "base_uri": "https://localhost:8080/",
          "height": 67
        },
        "outputId": "8bb2f577-c08d-4c13-e6d9-34d2b2b71e96"
      },
      "source": [
        "sentiment(TfidfVectorizer(ngram_range=(2,4)), LogisticRegression(C=5.0))"
      ],
      "execution_count": 45,
      "outputs": [
        {
          "output_type": "stream",
          "text": [
            "Метка \t Accuracy\n",
            "0 \t 0.8326530612244898\n",
            "1 \t 0.6196078431372549\n"
          ],
          "name": "stdout"
        }
      ]
    }
  ]
}